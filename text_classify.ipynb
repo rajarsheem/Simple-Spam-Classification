{
 "cells": [
  {
   "cell_type": "code",
   "execution_count": 80,
   "metadata": {
    "collapsed": false
   },
   "outputs": [
    {
     "name": "stdout",
     "output_type": "stream",
     "text": [
      "2602 291\n"
     ]
    }
   ],
   "source": [
    "train_x, train_y, test_x, test_y = [],[],[],[]\n",
    "for i in range(1, 2171):\n",
    "    with open('data/train/ham/'+str(i)) as f:\n",
    "        l = f.readlines()[2]\n",
    "        train_x.append(l)\n",
    "        train_y.append(0)\n",
    "for i in range(1, 433):\n",
    "    with open('data/train/spam/'+str(i)) as f:\n",
    "        l = f.readlines()[2]\n",
    "        train_x.append(l)\n",
    "        train_y.append(1)\n",
    "for i in range(1, 243):\n",
    "    with open('data/test/ham/'+str(i)) as f:\n",
    "        l = f.readlines()[2]\n",
    "        test_x.append(l)\n",
    "        test_y.append(0)\n",
    "for i in range(1, 50):\n",
    "    with open('data/test/spam/'+str(i)) as f:\n",
    "        l = f.readlines()[2]\n",
    "        test_x.append(l)\n",
    "        test_y.append(1)\n",
    "print(len(train_x), len(test_x))"
   ]
  },
  {
   "cell_type": "code",
   "execution_count": 81,
   "metadata": {
    "collapsed": false
   },
   "outputs": [],
   "source": [
    "import nltk\n",
    "from nltk.tokenize import RegexpTokenizer\n",
    "from nltk.corpus import stopwords\n",
    "from nltk.stem import WordNetLemmatizer\n",
    "from sklearn import preprocessing\n",
    "stop = stopwords.words('english')\n",
    "tokenizer = RegexpTokenizer(r'\\w+')\n",
    "from nltk.tokenize import RegexpTokenizer\n",
    "lemmatizer = WordNetLemmatizer()\n",
    "\n",
    "for i, j in enumerate(train_x):\n",
    "    t = tokenizer.tokenize(j)\n",
    "    t = [lemmatizer.lemmatize(x.lower()) for x in t if  x not in stop]\n",
    "    train_x[i] = ' '.join(t)\n",
    "\n",
    "for i, j in enumerate(test_x):\n",
    "    t = tokenizer.tokenize(j)\n",
    "    t = [lemmatizer.lemmatize(x.lower()) for x in t if x not in stop]\n",
    "    test_x[i] = ' '.join(t)"
   ]
  },
  {
   "cell_type": "code",
   "execution_count": 82,
   "metadata": {
    "collapsed": false
   },
   "outputs": [
    {
     "name": "stdout",
     "output_type": "stream",
     "text": [
      "(2602, 1000) (291, 1000)\n"
     ]
    }
   ],
   "source": [
    "from sklearn.feature_extraction.text import TfidfVectorizer\n",
    "import numpy as np\n",
    "t = TfidfVectorizer(max_features=1000)\n",
    "t.fit(train_x)\n",
    "train_x = t.transform(train_x).toarray()\n",
    "test_x = t.transform(test_x).toarray()\n",
    "print(train_x.shape, test_x.shape)\n",
    "train_y = np.array(train_y)\n",
    "idx = np.arange(train_x.shape[0])\n",
    "np.random.shuffle(idx)\n",
    "train_x = train_x[idx]\n",
    "train_y = train_y[idx]"
   ]
  },
  {
   "cell_type": "code",
   "execution_count": 83,
   "metadata": {
    "collapsed": false
   },
   "outputs": [
    {
     "data": {
      "text/plain": [
       "LogisticRegression(C=1.0, class_weight='balanced', dual=False,\n",
       "          fit_intercept=True, intercept_scaling=1, max_iter=100,\n",
       "          multi_class='ovr', n_jobs=-1, penalty='l2', random_state=None,\n",
       "          solver='liblinear', tol=0.0001, verbose=0, warm_start=False)"
      ]
     },
     "execution_count": 83,
     "metadata": {},
     "output_type": "execute_result"
    }
   ],
   "source": [
    "from sklearn.linear_model import LogisticRegression\n",
    "l = LogisticRegression(n_jobs = -1, class_weight='balanced')\n",
    "l.fit(train_x, train_y)\n"
   ]
  },
  {
   "cell_type": "code",
   "execution_count": 84,
   "metadata": {
    "collapsed": false
   },
   "outputs": [
    {
     "name": "stdout",
     "output_type": "stream",
     "text": [
      "0.996563573883\n"
     ]
    }
   ],
   "source": [
    "from sklearn.metrics import accuracy_score\n",
    "p = l.predict(test_x)\n",
    "print(accuracy_score(p, test_y))\n"
   ]
  },
  {
   "cell_type": "code",
   "execution_count": 85,
   "metadata": {
    "collapsed": false
   },
   "outputs": [
    {
     "name": "stdout",
     "output_type": "stream",
     "text": [
      "0.958762886598\n"
     ]
    }
   ],
   "source": [
    "from sklearn.naive_bayes import GaussianNB\n",
    "nb = GaussianNB()\n",
    "p = nb.fit(train_x, train_y).predict(test_x)\n",
    "print(accuracy_score(p, test_y))"
   ]
  },
  {
   "cell_type": "code",
   "execution_count": 86,
   "metadata": {
    "collapsed": false
   },
   "outputs": [
    {
     "name": "stdout",
     "output_type": "stream",
     "text": [
      "0.993127147766\n"
     ]
    }
   ],
   "source": [
    "from sklearn import svm\n",
    "s = svm.LinearSVC()\n",
    "p = s.fit(train_x, train_y).predict(test_x)\n",
    "print(accuracy_score(p, test_y))\n"
   ]
  }
 ],
 "metadata": {
  "kernelspec": {
   "display_name": "Python 3",
   "language": "python",
   "name": "python3"
  },
  "language_info": {
   "codemirror_mode": {
    "name": "ipython",
    "version": 3
   },
   "file_extension": ".py",
   "mimetype": "text/x-python",
   "name": "python",
   "nbconvert_exporter": "python",
   "pygments_lexer": "ipython3",
   "version": "3.4.3+"
  }
 },
 "nbformat": 4,
 "nbformat_minor": 0
}
