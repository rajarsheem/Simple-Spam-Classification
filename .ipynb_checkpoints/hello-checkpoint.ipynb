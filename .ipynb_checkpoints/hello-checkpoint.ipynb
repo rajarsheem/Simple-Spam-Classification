{
 "cells": [
  {
   "cell_type": "code",
   "execution_count": 163,
   "metadata": {
    "collapsed": false
   },
   "outputs": [
    {
     "name": "stdout",
     "output_type": "stream",
     "text": [
      "2602 2602 291 291\n"
     ]
    }
   ],
   "source": [
    "from random import shuffle\n",
    "train_x = []\n",
    "train_y = []\n",
    "test_x = []\n",
    "test_y = []\n",
    "for i in range(1,2171):\n",
    "    with open('data/train/ham/'+str(i)) as f:\n",
    "        l = f.readlines()\n",
    "        train_x.append(l[2])\n",
    "        train_y.append(0)\n",
    "for i in range(1, 433):\n",
    "    with open('data/train/spam/'+str(i)) as f:\n",
    "        l = f.readlines()\n",
    "        train_x.append(l[2])\n",
    "        train_y.append(1)\n",
    "for i in range(1, 243):\n",
    "    with open('data/test/ham/'+str(i)) as f:\n",
    "        l = f.readlines()\n",
    "        test_x.append(l[2])\n",
    "        test_y.append(0)\n",
    "for i in range(1, 50):\n",
    "    with open('data/test/spam/'+str(i)) as f:\n",
    "        l = f.readlines()\n",
    "        test_x.append(l[2])\n",
    "        test_y.append(1)\n",
    "\n",
    "print(len(train_x), len(train_y), len(test_x), len(test_y))"
   ]
  },
  {
   "cell_type": "code",
   "execution_count": 164,
   "metadata": {
    "collapsed": false
   },
   "outputs": [],
   "source": [
    "from nltk.tokenize import RegexpTokenizer\n",
    "from nltk.corpus import stopwords\n",
    "from nltk.stem import WordNetLemmatizer\n",
    "from sklearn import preprocessing\n",
    "stop = stopwords.words('english')\n",
    "tokenizer = RegexpTokenizer(r'\\w+')\n",
    "lemmatizer =  WordNetLemmatizer()\n",
    "for i, j in enumerate(train_x):    \n",
    "    t = tokenizer.tokenize(j)\n",
    "    t = [lemmatizer.lemmatize(x.lower(), pos='v') for x in t if x not in stop]\n",
    "    train_x[i] = ' '.join(t)\n",
    "for i, j in enumerate(test_x):\n",
    "    t = tokenizer.tokenize(j)\n",
    "    t = [lemmatizer.lemmatize(x.lower(), pos='v') for x in t if x not in stop]\n",
    "    test_x[i] = ' '.join(t)"
   ]
  },
  {
   "cell_type": "code",
   "execution_count": 165,
   "metadata": {
    "collapsed": false
   },
   "outputs": [
    {
     "name": "stdout",
     "output_type": "stream",
     "text": [
      "(2602, 1000) (291, 1000)\n"
     ]
    }
   ],
   "source": [
    "from sklearn.feature_extraction.text import TfidfVectorizer\n",
    "import numpy as np\n",
    "t = TfidfVectorizer(max_features=1000)\n",
    "t.fit(train_x)\n",
    "train_x = np.c_[np.array(t.transform(train_x).toarray())]\n",
    "test_x = np.c_[np.array(t.transform(test_x).toarray())]\n",
    "train_y = np.array(train_y)\n",
    "test_y = np.array(test_y)\n",
    "\n",
    "# from sklearn.feature_selection import chi2\n",
    "# from sklearn.feature_selection import SelectKBest\n",
    "# selector = SelectKBest(chi2, k = 500)\n",
    "# selector.fit(train_x, train_y)\n",
    "# train_x = selector.transform(train_x)\n",
    "# test_x = selector.transform(test_x)\n",
    "\n",
    "# some shuffling\n",
    "idx = np.arange(train_x.shape[0])\n",
    "np.random.seed(13)\n",
    "np.random.shuffle(idx)\n",
    "train_x = train_x[idx]\n",
    "train_y = train_y[idx]\n",
    "\n",
    "print(train_x.shape, test_x.shape)"
   ]
  },
  {
   "cell_type": "code",
   "execution_count": 166,
   "metadata": {
    "collapsed": false
   },
   "outputs": [
    {
     "data": {
      "text/plain": [
       "LogisticRegression(C=1.0, class_weight='balanced', dual=False,\n",
       "          fit_intercept=True, intercept_scaling=1, max_iter=100,\n",
       "          multi_class='ovr', n_jobs=-1, penalty='l2', random_state=None,\n",
       "          solver='liblinear', tol=0.0001, verbose=0, warm_start=False)"
      ]
     },
     "execution_count": 166,
     "metadata": {},
     "output_type": "execute_result"
    }
   ],
   "source": [
    "from sklearn.linear_model import LogisticRegression\n",
    "lr = LogisticRegression(class_weight='balanced', n_jobs=-1)\n",
    "lr.fit(train_x, train_y)"
   ]
  },
  {
   "cell_type": "code",
   "execution_count": 167,
   "metadata": {
    "collapsed": false
   },
   "outputs": [
    {
     "name": "stdout",
     "output_type": "stream",
     "text": [
      "0.996563573883\n"
     ]
    }
   ],
   "source": [
    "from sklearn.metrics import accuracy_score, precision_score\n",
    "p = lr.predict(test_x)\n",
    "print(accuracy_score(test_y, p))"
   ]
  },
  {
   "cell_type": "code",
   "execution_count": null,
   "metadata": {
    "collapsed": true
   },
   "outputs": [],
   "source": []
  }
 ],
 "metadata": {
  "kernelspec": {
   "display_name": "Python 3",
   "language": "python",
   "name": "python3"
  },
  "language_info": {
   "codemirror_mode": {
    "name": "ipython",
    "version": 3
   },
   "file_extension": ".py",
   "mimetype": "text/x-python",
   "name": "python",
   "nbconvert_exporter": "python",
   "pygments_lexer": "ipython3",
   "version": "3.4.3+"
  }
 },
 "nbformat": 4,
 "nbformat_minor": 0
}
